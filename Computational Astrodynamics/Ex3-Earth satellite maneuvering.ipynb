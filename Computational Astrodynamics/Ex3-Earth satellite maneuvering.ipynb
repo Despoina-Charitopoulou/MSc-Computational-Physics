{
 "cells": [
  {
   "cell_type": "code",
   "execution_count": 1,
   "id": "7272c245",
   "metadata": {},
   "outputs": [],
   "source": [
    "import numpy as np\n",
    "import matplotlib.pyplot as plt\n",
    "from mpl_toolkits.mplot3d import Axes3D\n",
    "from scipy.integrate import solve_ivp\n",
    "import math as ma"
   ]
  },
  {
   "cell_type": "code",
   "execution_count": 2,
   "id": "39361334",
   "metadata": {},
   "outputs": [],
   "source": [
    "# initial orbital state \n",
    "x=-9141.878\n",
    "y=-1648.0758\n",
    "z=4141.679\n",
    "vx=-1.153\n",
    "vy=-5.31\n",
    "vz=-2.898\n",
    "\n",
    "# final orbital state\n",
    "a=12940\n",
    "e=0.2173\n",
    "i=0.8692\n",
    "Om=1.448\n",
    "w=2.721\n",
    "f=2.827\n",
    "\n",
    "mu=398600.433\n",
    "R1=np.sqrt(x*x+y*y+z*z)\n"
   ]
  },
  {
   "cell_type": "code",
   "execution_count": 3,
   "id": "60bdde87",
   "metadata": {},
   "outputs": [],
   "source": [
    "#Convert Keplerian elements to Cartesian.\n",
    "def kep2cart(kep, GM):\n",
    "    a,e,i,Om,w,f = kep\n",
    "    p = a*(1-e*e)\n",
    "    sqrt_GM = np.sqrt(GM/p)\n",
    "    \n",
    "    sini, cosi = np.sin(i), np.cos(i)\n",
    "    sinOm, cosOm = np.sin(Om), np.cos(Om)\n",
    "    sinw, cosw = np.sin(w), np. cos(w)\n",
    "    sinf, cosf = np.sin(f), np.cos(f)\n",
    "    \n",
    "    rx = p*cosf/(1+e*cosf)\n",
    "    ry = p*sinf/(1+e*cosf)\n",
    "    v_x = -sqrt_GM*sinf\n",
    "    v_y = sqrt_GM*(e+cosf)\n",
    "    \n",
    "    R11 = cosOm*cosw - sinOm*cosi*sinw\n",
    "    R12 = -cosOm*sinw - cosw*cosi*sinOm\n",
    "    R13 = sini*sinOm\n",
    "    \n",
    "    R21 = sinOm*cosw + cosOm*cosi*sinw\n",
    "    R22 = -sinOm*sinw + cosOm*cosi*cosw\n",
    "    R23 = -sini*cosOm\n",
    "    \n",
    "    R31 = sini*sinw\n",
    "    R32 = sini*cosw\n",
    "    R33 = cosi\n",
    "    \n",
    "    x = float(R11*rx + R12*ry)\n",
    "    y = float(R21*rx + R22*ry)\n",
    "    z = float(R31*rx + R32*ry)\n",
    "    vx = float(R11*v_x + R12*v_y)\n",
    "    vy = float(R21*v_x + R22*v_y)\n",
    "    vz = float(R31*v_x + R32*v_y)\n",
    "    \n",
    "    return [x,y,z,vx,vy,vz]"
   ]
  },
  {
   "cell_type": "code",
   "execution_count": 4,
   "id": "be95e406",
   "metadata": {},
   "outputs": [],
   "source": [
    "#Convert Cartesian elements to Keplerian.\n",
    "def cart2kep(cart, GM):\n",
    "    x,y,z,vx,vy,vz = cart\n",
    "    eps = 1e-14\n",
    "    r = np.sqrt(x*x+y*y+z*z)\n",
    "    rx = x\n",
    "    ry = y \n",
    "    rz = z\n",
    "    v = np.sqrt(vx*vx+vy*vy+vz*vz)\n",
    "    E = (1/2)*v*v  - (mu/r)\n",
    "    a = -mu/(2*E)\n",
    "    hx = y*vz - z*vy\n",
    "    hy = -x*vz + z*vx\n",
    "    hz = x*vy - y*vx\n",
    "    h = np.sqrt(hx*hx+hy*hy+hz*hz)\n",
    "    i = np.arccos(hz/h)\n",
    "    ex = (1/mu)*((v*v-mu/r)*rx - (rx*vx + ry*vy + rz*vz)*vx)\n",
    "    ey = (1/mu)*((v*v-mu/r)*ry - (rx*vx + ry*vy + rz*vz)*vy)\n",
    "    ez = (1/mu)*((v*v-mu/r)*rz - (rx*vx + ry*vy + rz*vz)*vz)\n",
    "    e = np.sqrt(ex*ex+ey*ey+ez*ez)\n",
    "    nx = -hy\n",
    "    ny = hx\n",
    "    nz = 0\n",
    "    n = np.sqrt(nx*nx+ny*ny+nz*nz)\n",
    "    \n",
    "    if ny>=0:\n",
    "        Om = np.arccos(nx/n)\n",
    "        \n",
    "    if ny<0:\n",
    "        Om = 2*np.pi - np.arccos(nx/n)\n",
    "    \n",
    "    if e>eps:\n",
    "        if n>eps:\n",
    "             w = np.arccos((nx*ex+ny*ey)/n*e)\n",
    "        if ez<0:\n",
    "             w = 2*np.pi - np.arccos((nx*ex+ny*ey)/n*e)\n",
    "   \n",
    "    v_r = (x*vx+y*vy+z*vz)/r\n",
    "    \n",
    "    \n",
    "    if v_r>=0:\n",
    "        f = np.arccos((ex*rx+ey*ry+ez*rz)/(e*r))\n",
    "                      \n",
    "    if v_r<0:\n",
    "        f = 2*np.pi - np.arccos((ex*rx+ey*ry+ez*rz)/(e*r))        \n",
    "     \n",
    "    \n",
    "    return [a,e,i,Om,w,f]\n",
    "\n"
   ]
  },
  {
   "cell_type": "code",
   "execution_count": 5,
   "id": "7e01f0db",
   "metadata": {},
   "outputs": [],
   "source": [
    "IC = [ a , e, np.deg2rad(i), np.deg2rad(Om), np.deg2rad(w), f ];\n",
    "ICCAR = kep2cart(IC,mu);\n"
   ]
  },
  {
   "cell_type": "code",
   "execution_count": 6,
   "id": "3f3aea66",
   "metadata": {},
   "outputs": [
    {
     "name": "stdout",
     "output_type": "stream",
     "text": [
      "Om= 0.7080148312799239\n",
      "a= 9852.198421980704\n",
      "e= 0.12072807884964891\n",
      "i= 0.7230491866394563\n",
      "f= 1.9566544240267003\n",
      "w= 1.5581618269475754\n",
      "ΔΩ= 0.739985168720076\n",
      "Δi= 0.1461508133605437\n"
     ]
    }
   ],
   "source": [
    "cart1=[x,y,z,vx,vy,vz]\n",
    "C=cart2kep(cart1,mu)\n",
    "a1=C[0]\n",
    "e1=C[1]\n",
    "w1=C[4]\n",
    "f1=C[5]\n",
    "Om1=C[3]\n",
    "i1=C[2]\n",
    "dOm=Om-Om1\n",
    "di=i-i1\n",
    "print(\"Om=\",Om1)\n",
    "print(\"a=\",a1)\n",
    "print(\"e=\",e1)\n",
    "print(\"i=\",i1)\n",
    "print(\"f=\",f1)\n",
    "print(\"w=\",w1)\n",
    "print(\"ΔΩ=\",dOm)\n",
    "print(\"Δi=\",di)\n",
    "\n",
    "T_per=2*np.pi*(np.sqrt(a1**3/mu))"
   ]
  },
  {
   "cell_type": "code",
   "execution_count": 7,
   "id": "af26752f",
   "metadata": {},
   "outputs": [],
   "source": [
    "a11=np.arccos(np.cos(i)*np.cos(i1)+np.sin(i)*np.sin(i1)*np.cos(dOm))\n",
    "\n",
    "cosu2=(np.cos(i1)-np.cos(a11)*np.cos(i))/(np.sin(a11)*np.sin(i))\n",
    "cosu1=(np.cos(i)-np.cos(a11)*np.cos(i1))/(np.sin(a11)*np.sin(i1))\n",
    "\n",
    "sinu1=(np.sin(i)*(np.sin(dOm)/np.sin(a11)))\n",
    "sinu2=(np.sin(i1)*(np.sin(dOm)/np.sin(a11)))\n",
    "u1=np.arctan2(sinu1,cosu1)\n",
    "u2=np.arctan2(sinu2,cosu2)\n",
    "theta1=u1-w1\n",
    "w2=u2-u1+w1\n",
    "E1=np.arctan(np.sqrt((1-e1)/(1+e1))*np.tan(theta1/2))\n",
    "M1=E1-e1*np.sin(E1)\n",
    "n1=np.sqrt(mu/a1)\n",
    "t1=M1/n1\n",
    "\n",
    "if theta1>f1:\n",
    "    dt1=t1\n",
    "else:\n",
    "    dt1=t1+T_per\n",
    "        "
   ]
  },
  {
   "cell_type": "code",
   "execution_count": 9,
   "id": "2fab7945",
   "metadata": {},
   "outputs": [],
   "source": [
    "dw=w-w2\n",
    "theta2a=dw/2\n",
    "\n",
    "\n",
    "E2=np.arctan(np.sqrt((1-e1)/(1+e1))*np.tan(theta2a/2))\n",
    "M2=E2-e1*np.sin(E2)\n",
    "n2=np.sqrt(mu/a1)\n",
    "t2=M2/n2\n",
    "\n",
    "if theta2a>theta1:\n",
    "    dt2=t2-t1\n",
    "else:\n",
    "    dt2=t2-t1+T_per\n"
   ]
  },
  {
   "cell_type": "code",
   "execution_count": 10,
   "id": "d24c5d48",
   "metadata": {},
   "outputs": [],
   "source": [
    "theta3a=2*np.pi-theta2a\n",
    "theta4=0\n",
    "E3=np.arctan(np.sqrt((1-e1)/(1+e1))*np.tan(theta4/2))\n",
    "M3=E3-e1*np.sin(E3)\n",
    "n3=np.sqrt(mu/a1)\n",
    "t3=M3/n3\n",
    "\n",
    "if theta4>theta3a:\n",
    "    dt3=t3-t2\n",
    "else:\n",
    "    dt3=t3-t2+T_per\n",
    "    "
   ]
  },
  {
   "cell_type": "code",
   "execution_count": null,
   "id": "9da97922",
   "metadata": {},
   "outputs": [],
   "source": []
  },
  {
   "cell_type": "code",
   "execution_count": 11,
   "id": "882f4a5e",
   "metadata": {},
   "outputs": [],
   "source": [
    "E4=np.arctan(np.sqrt((1-e1)/(1+e1))*np.tan(f/2))\n",
    "M4=E4-e1*np.sin(E4)\n",
    "n4=np.sqrt(mu/a1)\n",
    "t4=M4/n4\n",
    "\n",
    "if f>np.pi:\n",
    "    dt4=t4-t3\n",
    "else:\n",
    "    dt4=t4-t3+T_per\n",
    "    "
   ]
  },
  {
   "cell_type": "code",
   "execution_count": 12,
   "id": "3e35731c",
   "metadata": {},
   "outputs": [
    {
     "name": "stdout",
     "output_type": "stream",
     "text": [
      "The time-of-flight is: 29196.77922970034\n"
     ]
    }
   ],
   "source": [
    "tof=dt1+dt2+dt3+dt4\n",
    "print(\"The time-of-flight is:\",tof)"
   ]
  },
  {
   "cell_type": "code",
   "execution_count": null,
   "id": "457a284f",
   "metadata": {},
   "outputs": [],
   "source": []
  }
 ],
 "metadata": {
  "kernelspec": {
   "display_name": "Python 3 (ipykernel)",
   "language": "python",
   "name": "python3"
  },
  "language_info": {
   "codemirror_mode": {
    "name": "ipython",
    "version": 3
   },
   "file_extension": ".py",
   "mimetype": "text/x-python",
   "name": "python",
   "nbconvert_exporter": "python",
   "pygments_lexer": "ipython3",
   "version": "3.9.7"
  }
 },
 "nbformat": 4,
 "nbformat_minor": 5
}
